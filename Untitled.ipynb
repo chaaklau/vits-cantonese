{
 "cells": [
  {
   "cell_type": "code",
   "execution_count": null,
   "id": "dfec1778-88f7-4722-b5ac-d8ac57976dec",
   "metadata": {},
   "outputs": [],
   "source": [
    "!python train.py -c ./configs/hkilang.json -m ciugo.pth"
   ]
  }
 ],
 "metadata": {
  "kernelspec": {
   "display_name": "Python 3 (ipykernel)",
   "language": "python",
   "name": "python3"
  },
  "language_info": {
   "codemirror_mode": {
    "name": "ipython",
    "version": 3
   },
   "file_extension": ".py",
   "mimetype": "text/x-python",
   "name": "python",
   "nbconvert_exporter": "python",
   "pygments_lexer": "ipython3",
   "version": "3.10.12"
  }
 },
 "nbformat": 4,
 "nbformat_minor": 5
}
